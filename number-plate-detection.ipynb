{
 "cells": [
  {
   "cell_type": "markdown",
   "metadata": {},
   "source": [
    "# Number Plate Detection using OpenCV\n",
    "\n",
    "Number Plate of any vehicle can be detected and saved into a folder or directory if you prefer, by using the following codes below"
   ]
  },
  {
   "cell_type": "code",
   "execution_count": 1,
   "metadata": {},
   "outputs": [],
   "source": [
    "!pip install jovian --upgrade --quiet"
   ]
  },
  {
   "cell_type": "code",
   "execution_count": 2,
   "metadata": {},
   "outputs": [],
   "source": [
    "import jovian"
   ]
  },
  {
   "cell_type": "code",
   "execution_count": 3,
   "metadata": {},
   "outputs": [
    {
     "data": {
      "application/javascript": [
       "window.require && require([\"base/js/namespace\"],function(Jupyter){Jupyter.notebook.save_checkpoint()})"
      ],
      "text/plain": [
       "<IPython.core.display.Javascript object>"
      ]
     },
     "metadata": {},
     "output_type": "display_data"
    },
    {
     "name": "stdout",
     "output_type": "stream",
     "text": [
      "[jovian] Updating notebook \"karthikeyan-g/number-plate-detection\" on https://jovian.ai\u001b[0m\n",
      "[jovian] Committed successfully! https://jovian.ai/karthikeyan-g/number-plate-detection\u001b[0m\n"
     ]
    },
    {
     "data": {
      "text/plain": [
       "'https://jovian.ai/karthikeyan-g/number-plate-detection'"
      ]
     },
     "execution_count": 3,
     "metadata": {},
     "output_type": "execute_result"
    }
   ],
   "source": [
    "# Execute this to save new versions of the notebook\n",
    "jovian.commit(project=\"number-plate-detection\")"
   ]
  },
  {
   "cell_type": "markdown",
   "metadata": {},
   "source": [
    "## Start with Importing the Libraries "
   ]
  },
  {
   "cell_type": "code",
   "execution_count": 4,
   "metadata": {},
   "outputs": [],
   "source": [
    "# To Install OpenCV \n",
    "!pip install opencv-python --quiet"
   ]
  },
  {
   "cell_type": "code",
   "execution_count": 5,
   "metadata": {},
   "outputs": [],
   "source": [
    "# Importing the Libraries\n",
    "import cv2 # cv2 stands for computer vision \n",
    "import numpy as np\n",
    "import matplotlib.pyplot as plt\n",
    "\n",
    "%matplotlib inline \n",
    "\n",
    "from IPython.display import Image"
   ]
  },
  {
   "cell_type": "markdown",
   "metadata": {},
   "source": [
    "### To Detect the Number Plate we can either use webcam and images as I am running the code on cloud.  I'm going to use the images of different cars, but I leave the code if you're going to use webcam or cctv "
   ]
  },
  {
   "cell_type": "code",
   "execution_count": 6,
   "metadata": {},
   "outputs": [],
   "source": [
    "# frameWidth and frameHeight to output\n",
    "frameWidth = 640 \n",
    "frameHeight = 480\n",
    "\n",
    "# We are going to use the Cascade you can create you're own module too, \n",
    "# but cascade are far better to train easy and accurate modules OpenCV are many cascade for your project and,\n",
    "# Today I'm going to use the haarcascade russian number plate\n",
    "# Which is located in the file system \n",
    "numberPlateCascade = cv2.CascadeClassifier(\"/haarcascade_russian_plate_number.xml\")"
   ]
  },
  {
   "cell_type": "markdown",
   "metadata": {},
   "source": [
    "![image-2.png](https://www.linkpicture.com/q/markuphero-BC8T5R3azXc1Rs4iHqrb-1.png)"
   ]
  },
  {
   "cell_type": "markdown",
   "metadata": {},
   "source": [
    "#### haarcascade_russian_plate_number.xml = [Download here](https://github.com/opencv/opencv/blob/master/data/haarcascades/haarcascade_russian_plate_number.xml)"
   ]
  },
  {
   "cell_type": "markdown",
   "metadata": {},
   "source": [
    "### Even I have the images of three car that I'm going to train"
   ]
  },
  {
   "cell_type": "markdown",
   "metadata": {},
   "source": [
    "#### Car 1"
   ]
  },
  {
   "cell_type": "markdown",
   "metadata": {},
   "source": [
    "![car1](https://www.linkpicture.com/q/car1.jpg)"
   ]
  },
  {
   "cell_type": "markdown",
   "metadata": {},
   "source": [
    "#### Car 2"
   ]
  },
  {
   "cell_type": "markdown",
   "metadata": {},
   "source": [
    "![car3](https://www.linkpicture.com/q/car3.jpeg)"
   ]
  },
  {
   "cell_type": "markdown",
   "metadata": {},
   "source": [
    "#### Car 3"
   ]
  },
  {
   "cell_type": "markdown",
   "metadata": {},
   "source": [
    "![car4](https://www.linkpicture.com/q/car4_1.jpg)"
   ]
  },
  {
   "cell_type": "code",
   "execution_count": 7,
   "metadata": {},
   "outputs": [
    {
     "ename": "error",
     "evalue": "OpenCV(4.5.3) /tmp/pip-req-build-3umofm98/opencv/modules/imgproc/src/color.cpp:182: error: (-215:Assertion failed) !_src.empty() in function 'cvtColor'\n",
     "output_type": "error",
     "traceback": [
      "\u001b[0;31m---------------------------------------------------------------------------\u001b[0m",
      "\u001b[0;31merror\u001b[0m                                     Traceback (most recent call last)",
      "\u001b[0;32m<ipython-input-7-da12d60be1ff>\u001b[0m in \u001b[0;36m<module>\u001b[0;34m\u001b[0m\n\u001b[1;32m     23\u001b[0m \u001b[0;32mwhile\u001b[0m \u001b[0;32mTrue\u001b[0m\u001b[0;34m:\u001b[0m\u001b[0;34m\u001b[0m\u001b[0;34m\u001b[0m\u001b[0m\n\u001b[1;32m     24\u001b[0m     \u001b[0;31m# Changing images to Gray. Tip: As you see OpenCV use BGR as default rather than RGB\u001b[0m\u001b[0;34m\u001b[0m\u001b[0;34m\u001b[0m\u001b[0;34m\u001b[0m\u001b[0m\n\u001b[0;32m---> 25\u001b[0;31m     \u001b[0mimgGray\u001b[0m \u001b[0;34m=\u001b[0m \u001b[0mcv2\u001b[0m\u001b[0;34m.\u001b[0m\u001b[0mcvtColor\u001b[0m\u001b[0;34m(\u001b[0m\u001b[0mimgCar1\u001b[0m\u001b[0;34m,\u001b[0m \u001b[0mcv2\u001b[0m\u001b[0;34m.\u001b[0m\u001b[0mCOLOR_RGB2GRAY\u001b[0m\u001b[0;34m)\u001b[0m\u001b[0;34m\u001b[0m\u001b[0;34m\u001b[0m\u001b[0m\n\u001b[0m\u001b[1;32m     26\u001b[0m \u001b[0;34m\u001b[0m\u001b[0m\n\u001b[1;32m     27\u001b[0m     \u001b[0;31m# Cascading the MultiScale Array\u001b[0m\u001b[0;34m\u001b[0m\u001b[0;34m\u001b[0m\u001b[0;34m\u001b[0m\u001b[0m\n",
      "\u001b[0;31merror\u001b[0m: OpenCV(4.5.3) /tmp/pip-req-build-3umofm98/opencv/modules/imgproc/src/color.cpp:182: error: (-215:Assertion failed) !_src.empty() in function 'cvtColor'\n"
     ]
    }
   ],
   "source": [
    "# minArea is the Minumium Area that we allocate for the number plate\n",
    "minArea = 250\n",
    "\n",
    "# (255, 0, 255) which is purple color\n",
    "color = (255, 0, 255)\n",
    "\n",
    "##################################################\n",
    "# If you are going to use webcam - uncomment the section\n",
    "# cap = cv2.VideoCapture(0) # 0 is default you can enter you webcam id. Tip: Even sometimes it may present in -1\n",
    "# cap.set(3, frameWidth) # 3 is the scale and we already defined frameWidth to 640\n",
    "# cap.set(4, frameHeight) # 4 is the scale and we already defined frameHeight to 480\n",
    "# cap.set(10,150) # To brightened the picture resolution\n",
    "#################################################\n",
    "\n",
    "count = 0\n",
    "\n",
    "# Read the images by imread(with path) and store it to a variable\n",
    "\n",
    "imgCar1 = cv2.imread('/car1.jpg')\n",
    "imgCar2 = cv2.imread('/car2.jpeg')\n",
    "imgCar3 = cv2.imread('/car3.jpg')\n",
    "\n",
    "while True:\n",
    "    # Changing images to Gray. Tip: As you see OpenCV use BGR as default rather than RGB\n",
    "    imgGray = cv2.cvtColor(imgCar1, cv2.COLOR_RGB2GRAY)\n",
    "\n",
    "    # Cascading the MultiScale Array\n",
    "\n",
    "    numberPlates = numberPlateCascade.detectMultiScale(imgGray, 1.1, 10)\n",
    "\n",
    "    # for each in x - x axis, y - y axis, w - width, h - height (x, y, w, h) in numberPlates,\n",
    "    # which is the MultiScale Array.\n",
    "\n",
    "    for (x, y, w, h) in numberPlates:\n",
    "        area = w * h  # we need to multiply width by height. as we know if we multiply w by h it is called as area\n",
    "        if area > minArea:  # where the area which we need to be bellow 250 pixels\n",
    "\n",
    "            cv2.rectangle(imgCar1, (x, y), (x + w, y + h), (255, 0, 255), 2)\n",
    "\n",
    "            # Add text as Number Plate which can be seen above the bounded rectangle\n",
    "            cv2.putText(imgCar1, \"Number Plate\", (x, y - 5), cv2.FONT_HERSHEY_COMPLEX_SMALL, 1, color, 2)\n",
    "\n",
    "            # And we need the number plate image to save so we can crop it.\n",
    "            imgCrop = imgCar1[y:y + h, x:x + w]\n",
    "\n",
    "            #  Use imshow to display the image with the title and image we need to display\n",
    "            # Only the number plate which we need to save in a folder\n",
    "            cv2.imshow(\"Number Plate without car\", imgCrop)\n",
    "\n",
    "            # Real image with car\n",
    "            cv2.imshow(\"Number Plate with car\", imgCar1)\n",
    "\n",
    "            # We need to specify a waitkey and if we press the s keyword the number plate of car will be saved to a\n",
    "            # directory called /NumberPlates so create a folder on your the project.\n",
    "    if cv2.waitKey(1) & 0xFF == ord('s'):\n",
    "        # To need to save it on NumberPlates folder as jpg format\n",
    "        cv2.imwrite(\"/NumberPlates/NoPlate_\" + str(count) + \".jpg\", imgCrop)\n",
    "\n",
    "        # Only the number plate\n",
    "        cv2.rectangle(imgCrop, (0, 200), (640, 300), (0, 255, 0), cv2.FILLED)\n",
    "\n",
    "        # Some to output to indicate the number plate is saved or not\n",
    "        cv2.putText(imgCar1, \"Scan Saved\", (150, 265), cv2.FONT_HERSHEY_DUPLEX, 2, (0, 0, 255), 2)\n",
    "\n",
    "        cv2.imshow(\"Number Plate\", imgCar1)\n",
    "\n",
    "        cv2.waitKey(500)\n",
    "\n",
    "        # Every time we need to add a number to the images which we are saving\n",
    "        count += 1"
   ]
  },
  {
   "cell_type": "markdown",
   "metadata": {},
   "source": [
    "# Run the code locally on your machine"
   ]
  },
  {
   "cell_type": "markdown",
   "metadata": {},
   "source": [
    "# Result:"
   ]
  },
  {
   "cell_type": "markdown",
   "metadata": {},
   "source": [
    "### Car 1"
   ]
  },
  {
   "cell_type": "markdown",
   "metadata": {},
   "source": [
    "![Number-Plate-Car1](https://www.linkpicture.com/q/car1_1.png)"
   ]
  },
  {
   "cell_type": "markdown",
   "metadata": {},
   "source": [
    "### Car 2"
   ]
  },
  {
   "cell_type": "markdown",
   "metadata": {},
   "source": [
    "![Number-Plate-Car2](https://www.linkpicture.com/q/car2_1.png)"
   ]
  },
  {
   "cell_type": "markdown",
   "metadata": {},
   "source": [
    "### Car 3"
   ]
  },
  {
   "cell_type": "markdown",
   "metadata": {},
   "source": [
    "![Number-Plate-Car3](https://www.linkpicture.com/q/car3.png)"
   ]
  },
  {
   "cell_type": "markdown",
   "metadata": {},
   "source": [
    "## Saving The Images of Number Plates to /NumberPlates directory  "
   ]
  },
  {
   "cell_type": "markdown",
   "metadata": {},
   "source": [
    "### Tip: Create a directory as NumberPlates to save the images"
   ]
  },
  {
   "cell_type": "markdown",
   "metadata": {},
   "source": [
    "![directory of Number Plates](https://www.linkpicture.com/q/NumberPlates.png)"
   ]
  },
  {
   "cell_type": "markdown",
   "metadata": {},
   "source": [
    "![Saving the Number Plates into a directory](https://www.linkpicture.com/q/savedimage.png)"
   ]
  },
  {
   "cell_type": "markdown",
   "metadata": {},
   "source": [
    "### Tip: Images of Number Plates are saved when we press the `s` keyword "
   ]
  },
  {
   "cell_type": "markdown",
   "metadata": {},
   "source": [
    "### Opening the NoPlate_0.jpg file that we saved using the `s` keyword "
   ]
  },
  {
   "cell_type": "markdown",
   "metadata": {},
   "source": [
    "![Number Plate That we saved](https://www.linkpicture.com/q/s-key.png)"
   ]
  },
  {
   "cell_type": "code",
   "execution_count": null,
   "metadata": {},
   "outputs": [],
   "source": []
  },
  {
   "cell_type": "markdown",
   "metadata": {},
   "source": [
    "# Inferences and Conclusion\n",
    "\n",
    "That's it..."
   ]
  },
  {
   "cell_type": "code",
   "execution_count": null,
   "metadata": {},
   "outputs": [],
   "source": []
  },
  {
   "cell_type": "markdown",
   "metadata": {},
   "source": [
    "# References and Future Work\n",
    "\n",
    "GITHUB - https://github.com/karthiksuki/\n",
    "\n",
    "LINKEDIN - https://www.linkedin.com/in/karthikeyan-g-86889720b/"
   ]
  },
  {
   "cell_type": "code",
   "execution_count": null,
   "metadata": {},
   "outputs": [],
   "source": []
  },
  {
   "cell_type": "code",
   "execution_count": 8,
   "metadata": {},
   "outputs": [
    {
     "data": {
      "application/javascript": [
       "window.require && require([\"base/js/namespace\"],function(Jupyter){Jupyter.notebook.save_checkpoint()})"
      ],
      "text/plain": [
       "<IPython.core.display.Javascript object>"
      ]
     },
     "metadata": {},
     "output_type": "display_data"
    },
    {
     "name": "stdout",
     "output_type": "stream",
     "text": [
      "[jovian] Updating notebook \"karthikeyan-g/number-plate-detection\" on https://jovian.ai\u001b[0m\n",
      "[jovian] Committed successfully! https://jovian.ai/karthikeyan-g/number-plate-detection\u001b[0m\n"
     ]
    },
    {
     "data": {
      "text/plain": [
       "'https://jovian.ai/karthikeyan-g/number-plate-detection'"
      ]
     },
     "execution_count": 8,
     "metadata": {},
     "output_type": "execute_result"
    }
   ],
   "source": [
    "# Execute this to save new versions of the notebook\n",
    "jovian.commit(project=\"number-plate-detection\")"
   ]
  },
  {
   "cell_type": "code",
   "execution_count": null,
   "metadata": {},
   "outputs": [],
   "source": []
  }
 ],
 "metadata": {
  "kernelspec": {
   "display_name": "Python 3",
   "language": "python",
   "name": "python3"
  },
  "language_info": {
   "codemirror_mode": {
    "name": "ipython",
    "version": 3
   },
   "file_extension": ".py",
   "mimetype": "text/x-python",
   "name": "python",
   "nbconvert_exporter": "python",
   "pygments_lexer": "ipython3",
   "version": "3.9.5"
  }
 },
 "nbformat": 4,
 "nbformat_minor": 2
}
